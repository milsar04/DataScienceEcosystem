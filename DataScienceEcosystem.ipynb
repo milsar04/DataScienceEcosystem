{
 "cells": [
  {
   "cell_type": "markdown",
   "id": "80452c2a-7c2f-4cdf-b6e2-a5fbd8a5df33",
   "metadata": {},
   "source": [
    "# Data Science Tools and Ecosystem"
   ]
  },
  {
   "cell_type": "markdown",
   "id": "f6353417-dd49-46ae-9ce6-46daea9bbb26",
   "metadata": {},
   "source": [
    "__Objectives:__\n",
    "- List popular languages for Data Science\n",
    "- List commonly used libraries for Data Science\n",
    "- List Data Science tools\n",
    "- Show examples of evaluating arithmetic expressions in Python\n"
   ]
  },
  {
   "cell_type": "markdown",
   "id": "9c913dec-77bc-455e-8ef3-12392f27bb34",
   "metadata": {},
   "source": [
    "In this notebook, Data Science Tools and Ecosystem are summarized."
   ]
  },
  {
   "cell_type": "markdown",
   "id": "5b2965d7-dd89-4db7-8fcb-978204eb3d73",
   "metadata": {},
   "source": [
    "Some of the popular languages that Data Scientists use are:\n",
    "1. Python\n",
    "2. R\n",
    "3. Julia"
   ]
  },
  {
   "cell_type": "markdown",
   "id": "600f4b2b-5abd-4893-8c52-aa8ed67db8df",
   "metadata": {},
   "source": [
    "Some of the commonly used libraries used by Data Scientists include:\n",
    "1. Matplotlib\n",
    "2. Numpy\n",
    "3. Seaborn"
   ]
  },
  {
   "cell_type": "markdown",
   "id": "16cd3698-f3d5-476b-a939-5a01b122d335",
   "metadata": {},
   "source": [
    "| Data Science Tools | \n",
    "| --- |\n",
    "| RStudio |  \n",
    "| Apache Spark |\n",
    "| Apache Hadoop |  "
   ]
  },
  {
   "cell_type": "markdown",
   "id": "dfb75a2f-80d0-42e7-b313-3fb2212d41cf",
   "metadata": {},
   "source": [
    "### Below are a few examples of evaluating arithmetic expressions in Python"
   ]
  },
  {
   "cell_type": "code",
   "execution_count": 1,
   "id": "45e49c1a-611c-42ef-9e18-a5369b5f8866",
   "metadata": {},
   "outputs": [
    {
     "data": {
      "text/plain": [
       "17"
      ]
     },
     "execution_count": 1,
     "metadata": {},
     "output_type": "execute_result"
    }
   ],
   "source": [
    "# This a simple arithmetic expression to mutiply then add integers\n",
    "(3*4)+5"
   ]
  },
  {
   "cell_type": "code",
   "execution_count": 2,
   "id": "8aab656e-c0b2-41c9-8d54-a519b264b4b8",
   "metadata": {},
   "outputs": [
    {
     "data": {
      "text/plain": [
       "3.3333333333333335"
      ]
     },
     "execution_count": 2,
     "metadata": {},
     "output_type": "execute_result"
    }
   ],
   "source": [
    "# This will convert 200 minutes to hours by diving by 60.\n",
    "200/60"
   ]
  },
  {
   "cell_type": "markdown",
   "id": "9cb9ac1c-860e-4c8f-8a0b-867934c3ce38",
   "metadata": {},
   "source": [
    "## Author\n",
    "Miłosz Sarnik"
   ]
  }
 ],
 "metadata": {
  "kernelspec": {
   "display_name": "Python 3 (ipykernel)",
   "language": "python",
   "name": "python3"
  },
  "language_info": {
   "codemirror_mode": {
    "name": "ipython",
    "version": 3
   },
   "file_extension": ".py",
   "mimetype": "text/x-python",
   "name": "python",
   "nbconvert_exporter": "python",
   "pygments_lexer": "ipython3",
   "version": "3.11.9"
  }
 },
 "nbformat": 4,
 "nbformat_minor": 5
}
